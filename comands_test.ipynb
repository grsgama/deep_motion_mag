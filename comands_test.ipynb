{
 "cells": [
  {
   "cell_type": "code",
   "execution_count": 1,
   "metadata": {},
   "outputs": [
    {
     "data": {
      "text/plain": [
       "[PhysicalDevice(name='/physical_device:CPU:0', device_type='CPU')]"
      ]
     },
     "execution_count": 1,
     "metadata": {},
     "output_type": "execute_result"
    }
   ],
   "source": [
    "import tensorflow as tf\n",
    "\n",
    "physical_devices2 = tf.config.list_physical_devices(\n",
    "    device_type=None\n",
    ")\n",
    "print(physical_devices2)\n",
    "physical_devices = tf.config.list_physical_devices('GPU')\n",
    "print(\"Num GPUs:\", len(physical_devices))\n"
   ]
  },
  {
   "cell_type": "code",
   "execution_count": 3,
   "metadata": {},
   "outputs": [],
   "source": [
    "import pandas as pd\n",
    "import numpy as np\n",
    "import os\n",
    "import cv2\n",
    "import matplotlib.pylab as plt\n",
    "\n",
    "from PIL import Image\n",
    "from glob import glob\n",
    "\n",
    "plt.style.use(\"ggplot\")\n",
    "\n",
    "from tkinter import filedialog\n",
    "from tkinter import *\n",
    "\n",
    "from datetime import datetime\n",
    "now = datetime.now() # current date and time\n",
    "\n",
    "dir_int = 'E:/Gabriel/deep_motion_mag/data/vids'\n",
    "dir_out = 'E:/Gabriel/deep_motion_mag/data/output/'\n",
    "\n",
    "root = Tk()\n",
    "root.withdraw()\n",
    "\n",
    "#dir_in_1 = filedialog.askdirectory(initialdir=dir_int) # whti a initial directory\n",
    "dir_in_1 = filedialog.askdirectory() #withou any initial directory\n",
    "#dir_in_1 = 'E:/Gabriel/deep_motion_mag/data/vids/guitar'\n",
    "\n",
    "\n",
    "#print(dir_in_1)\n",
    "\n",
    "dir_in_2 = filedialog.askdirectory(initialdir=dir_out)\n",
    "#dir_in_2 = 'E:/Gabriel/deep_motion_mag/data/output/guitar_Amp100.0_fl100.0_fh120.0_fs600.0_n3_butter'\n",
    "#dir_in_1 = 'E:/Gabriel/deep_motion_mag/data/output/guitar_Amp100.0_fl100.0_fh120.0_fs600.0_n3_butter'\n",
    "\n",
    "#print(dir_in_2)\n",
    "\n",
    "head, tail = os.path.split(dir_in_2)\n",
    "\n",
    "dir_name =  tail + '_AbsDifference__' + str(now.strftime(\"%m_%d_%Y_%H_%M_%S\"))\n",
    "\n",
    "path = os.path.join(dir_out,dir_name)\n",
    "\n",
    "print(path)\n",
    "\n",
    "try:\n",
    "    os.makedirs(path, exist_ok = True)\n",
    "    print(\"Directory '%s' created successfully\" % dir_name)\n",
    "except OSError as error:\n",
    "    print(\"Directory '%s' can not be created\" % dir_name)\n",
    "\n",
    "\n",
    "vds1 = glob(dir_in_1 + '\\*.png')\n",
    "vds2 = glob(dir_in_2 + '\\*.png')\n",
    "\n",
    "\n",
    "for i in range(len(vds1)):\n",
    "    img_mp1 = cv2.imread(vds1[i])\n",
    "    img_mp1_gray = cv2.cvtColor(img_mp1, cv2.COLOR_RGB2GRAY)\n",
    "    img_mp2 = cv2.imread(vds2[i])\n",
    "    img_mp2_gray = cv2.cvtColor(img_mp2, cv2.COLOR_RGB2GRAY)\n",
    "    img_diff = img_mp1 - img_mp2\n",
    "    img_diff_gray = abs(img_mp1_gray - img_mp2_gray)\n",
    "\n",
    "    \"\"\"fig, ax = plt.subplots(figsize=(10, 10))\n",
    "    ax.imshow(img_diff_gray)\n",
    "    ax.axis('off')\n",
    "    plt.show()\"\"\"\n",
    "\n",
    "    file_name = \"difference_\" + str(i) + \".png\"\n",
    "    \n",
    "    cv2.imwrite(os.path.join(path, file_name),img_diff_gray)"
   ]
  },
  {
   "cell_type": "code",
   "execution_count": 1,
   "metadata": {},
   "outputs": [],
   "source": [
    "from tkinter import filedialog\n",
    "from tkinter import *\n",
    "root = Tk()\n",
    "root.withdraw()\n",
    "folder_selected = filedialog.askdirectory()"
   ]
  },
  {
   "cell_type": "code",
   "execution_count": null,
   "metadata": {},
   "outputs": [],
   "source": []
  }
 ],
 "metadata": {
  "kernelspec": {
   "display_name": "Python 3",
   "language": "python",
   "name": "python3"
  },
  "language_info": {
   "codemirror_mode": {
    "name": "ipython",
    "version": 3
   },
   "file_extension": ".py",
   "mimetype": "text/x-python",
   "name": "python",
   "nbconvert_exporter": "python",
   "pygments_lexer": "ipython3",
   "version": "3.10.9"
  },
  "orig_nbformat": 4,
  "vscode": {
   "interpreter": {
    "hash": "62b0e3d0b07d826725988b114e7b59cdecb02bd7ac5c5d30782818a2ba4ad2d5"
   }
  }
 },
 "nbformat": 4,
 "nbformat_minor": 2
}
